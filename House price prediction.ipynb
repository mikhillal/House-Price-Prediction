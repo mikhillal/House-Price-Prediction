{
 "cells": [
  {
   "cell_type": "markdown",
   "id": "5594bed8",
   "metadata": {},
   "source": [
    "Our Objective is to predict the house price based on the given information. Build different machine learning model, compare and finalise the model. And also conduct some Exploratary Data Analsys prior to the model building."
   ]
  },
  {
   "cell_type": "code",
   "execution_count": 1,
   "id": "52746c39",
   "metadata": {},
   "outputs": [],
   "source": [
    "#importing all the neccassary libraries\n",
    "import numpy as np\n",
    "import pandas as pd\n",
    "import matplotlib.pyplot as plt\n",
    "import seaborn as sns\n",
    "import mpl_toolkits\n",
    "from sklearn import metrics \n",
    "%matplotlib inline\n",
    "import pickle"
   ]
  },
  {
   "cell_type": "code",
   "execution_count": 2,
   "id": "d0cd76b7",
   "metadata": {},
   "outputs": [
    {
     "data": {
      "text/html": [
       "<div>\n",
       "<style scoped>\n",
       "    .dataframe tbody tr th:only-of-type {\n",
       "        vertical-align: middle;\n",
       "    }\n",
       "\n",
       "    .dataframe tbody tr th {\n",
       "        vertical-align: top;\n",
       "    }\n",
       "\n",
       "    .dataframe thead th {\n",
       "        text-align: right;\n",
       "    }\n",
       "</style>\n",
       "<table border=\"1\" class=\"dataframe\">\n",
       "  <thead>\n",
       "    <tr style=\"text-align: right;\">\n",
       "      <th></th>\n",
       "      <th>id</th>\n",
       "      <th>date</th>\n",
       "      <th>price</th>\n",
       "      <th>bedrooms</th>\n",
       "      <th>bathrooms</th>\n",
       "      <th>sqft_living</th>\n",
       "      <th>sqft_lot</th>\n",
       "      <th>floors</th>\n",
       "      <th>waterfront</th>\n",
       "      <th>view</th>\n",
       "      <th>condition</th>\n",
       "      <th>grade</th>\n",
       "      <th>sqft_above</th>\n",
       "      <th>sqft_basement</th>\n",
       "      <th>yr_built</th>\n",
       "      <th>yr_renovated</th>\n",
       "      <th>zipcode</th>\n",
       "      <th>sqft_living15</th>\n",
       "      <th>sqft_lot15</th>\n",
       "    </tr>\n",
       "  </thead>\n",
       "  <tbody>\n",
       "    <tr>\n",
       "      <th>0</th>\n",
       "      <td>7129300520</td>\n",
       "      <td>20141013T000000</td>\n",
       "      <td>221900.0</td>\n",
       "      <td>3</td>\n",
       "      <td>1.00</td>\n",
       "      <td>1180</td>\n",
       "      <td>5650</td>\n",
       "      <td>1.0</td>\n",
       "      <td>0</td>\n",
       "      <td>0</td>\n",
       "      <td>3</td>\n",
       "      <td>7</td>\n",
       "      <td>1180</td>\n",
       "      <td>0</td>\n",
       "      <td>1955</td>\n",
       "      <td>0</td>\n",
       "      <td>98178</td>\n",
       "      <td>1340</td>\n",
       "      <td>5650</td>\n",
       "    </tr>\n",
       "    <tr>\n",
       "      <th>1</th>\n",
       "      <td>6414100192</td>\n",
       "      <td>20141209T000000</td>\n",
       "      <td>538000.0</td>\n",
       "      <td>3</td>\n",
       "      <td>2.25</td>\n",
       "      <td>2570</td>\n",
       "      <td>7242</td>\n",
       "      <td>2.0</td>\n",
       "      <td>0</td>\n",
       "      <td>0</td>\n",
       "      <td>3</td>\n",
       "      <td>7</td>\n",
       "      <td>2170</td>\n",
       "      <td>400</td>\n",
       "      <td>1951</td>\n",
       "      <td>1991</td>\n",
       "      <td>98125</td>\n",
       "      <td>1690</td>\n",
       "      <td>7639</td>\n",
       "    </tr>\n",
       "    <tr>\n",
       "      <th>2</th>\n",
       "      <td>5631500400</td>\n",
       "      <td>20150225T000000</td>\n",
       "      <td>180000.0</td>\n",
       "      <td>2</td>\n",
       "      <td>1.00</td>\n",
       "      <td>770</td>\n",
       "      <td>10000</td>\n",
       "      <td>1.0</td>\n",
       "      <td>0</td>\n",
       "      <td>0</td>\n",
       "      <td>3</td>\n",
       "      <td>6</td>\n",
       "      <td>770</td>\n",
       "      <td>0</td>\n",
       "      <td>1933</td>\n",
       "      <td>0</td>\n",
       "      <td>98028</td>\n",
       "      <td>2720</td>\n",
       "      <td>8062</td>\n",
       "    </tr>\n",
       "    <tr>\n",
       "      <th>3</th>\n",
       "      <td>2487200875</td>\n",
       "      <td>20141209T000000</td>\n",
       "      <td>604000.0</td>\n",
       "      <td>4</td>\n",
       "      <td>3.00</td>\n",
       "      <td>1960</td>\n",
       "      <td>5000</td>\n",
       "      <td>1.0</td>\n",
       "      <td>0</td>\n",
       "      <td>0</td>\n",
       "      <td>5</td>\n",
       "      <td>7</td>\n",
       "      <td>1050</td>\n",
       "      <td>910</td>\n",
       "      <td>1965</td>\n",
       "      <td>0</td>\n",
       "      <td>98136</td>\n",
       "      <td>1360</td>\n",
       "      <td>5000</td>\n",
       "    </tr>\n",
       "    <tr>\n",
       "      <th>4</th>\n",
       "      <td>1954400510</td>\n",
       "      <td>20150218T000000</td>\n",
       "      <td>510000.0</td>\n",
       "      <td>3</td>\n",
       "      <td>2.00</td>\n",
       "      <td>1680</td>\n",
       "      <td>8080</td>\n",
       "      <td>1.0</td>\n",
       "      <td>0</td>\n",
       "      <td>0</td>\n",
       "      <td>3</td>\n",
       "      <td>8</td>\n",
       "      <td>1680</td>\n",
       "      <td>0</td>\n",
       "      <td>1987</td>\n",
       "      <td>0</td>\n",
       "      <td>98074</td>\n",
       "      <td>1800</td>\n",
       "      <td>7503</td>\n",
       "    </tr>\n",
       "  </tbody>\n",
       "</table>\n",
       "</div>"
      ],
      "text/plain": [
       "           id             date     price  bedrooms  bathrooms  sqft_living  \\\n",
       "0  7129300520  20141013T000000  221900.0         3       1.00         1180   \n",
       "1  6414100192  20141209T000000  538000.0         3       2.25         2570   \n",
       "2  5631500400  20150225T000000  180000.0         2       1.00          770   \n",
       "3  2487200875  20141209T000000  604000.0         4       3.00         1960   \n",
       "4  1954400510  20150218T000000  510000.0         3       2.00         1680   \n",
       "\n",
       "   sqft_lot  floors  waterfront  view  condition  grade  sqft_above  \\\n",
       "0      5650     1.0           0     0          3      7        1180   \n",
       "1      7242     2.0           0     0          3      7        2170   \n",
       "2     10000     1.0           0     0          3      6         770   \n",
       "3      5000     1.0           0     0          5      7        1050   \n",
       "4      8080     1.0           0     0          3      8        1680   \n",
       "\n",
       "   sqft_basement  yr_built  yr_renovated  zipcode  sqft_living15  sqft_lot15  \n",
       "0              0      1955             0    98178           1340        5650  \n",
       "1            400      1951          1991    98125           1690        7639  \n",
       "2              0      1933             0    98028           2720        8062  \n",
       "3            910      1965             0    98136           1360        5000  \n",
       "4              0      1987             0    98074           1800        7503  "
      ]
     },
     "execution_count": 2,
     "metadata": {},
     "output_type": "execute_result"
    }
   ],
   "source": [
    "#importing the dataset\n",
    "df = pd.read_csv(\"house_price.csv\")\n",
    "df.head()"
   ]
  },
  {
   "cell_type": "markdown",
   "id": "37bf38b8",
   "metadata": {},
   "source": [
    "**Exploratory Data Analysis**"
   ]
  },
  {
   "cell_type": "code",
   "execution_count": 3,
   "id": "a196c862",
   "metadata": {},
   "outputs": [
    {
     "data": {
      "text/html": [
       "<div>\n",
       "<style scoped>\n",
       "    .dataframe tbody tr th:only-of-type {\n",
       "        vertical-align: middle;\n",
       "    }\n",
       "\n",
       "    .dataframe tbody tr th {\n",
       "        vertical-align: top;\n",
       "    }\n",
       "\n",
       "    .dataframe thead th {\n",
       "        text-align: right;\n",
       "    }\n",
       "</style>\n",
       "<table border=\"1\" class=\"dataframe\">\n",
       "  <thead>\n",
       "    <tr style=\"text-align: right;\">\n",
       "      <th></th>\n",
       "      <th>id</th>\n",
       "      <th>price</th>\n",
       "      <th>bedrooms</th>\n",
       "      <th>bathrooms</th>\n",
       "      <th>sqft_living</th>\n",
       "      <th>sqft_lot</th>\n",
       "      <th>floors</th>\n",
       "      <th>waterfront</th>\n",
       "      <th>view</th>\n",
       "      <th>condition</th>\n",
       "      <th>grade</th>\n",
       "      <th>sqft_above</th>\n",
       "      <th>sqft_basement</th>\n",
       "      <th>yr_built</th>\n",
       "      <th>yr_renovated</th>\n",
       "      <th>zipcode</th>\n",
       "      <th>sqft_living15</th>\n",
       "      <th>sqft_lot15</th>\n",
       "    </tr>\n",
       "  </thead>\n",
       "  <tbody>\n",
       "    <tr>\n",
       "      <th>count</th>\n",
       "      <td>2.161300e+04</td>\n",
       "      <td>2.161300e+04</td>\n",
       "      <td>21613.000000</td>\n",
       "      <td>21613.000000</td>\n",
       "      <td>21613.000000</td>\n",
       "      <td>2.161300e+04</td>\n",
       "      <td>21613.000000</td>\n",
       "      <td>21613.000000</td>\n",
       "      <td>21613.000000</td>\n",
       "      <td>21613.000000</td>\n",
       "      <td>21613.000000</td>\n",
       "      <td>21613.000000</td>\n",
       "      <td>21613.000000</td>\n",
       "      <td>21613.000000</td>\n",
       "      <td>21613.000000</td>\n",
       "      <td>21613.000000</td>\n",
       "      <td>21613.000000</td>\n",
       "      <td>21613.000000</td>\n",
       "    </tr>\n",
       "    <tr>\n",
       "      <th>mean</th>\n",
       "      <td>4.580302e+09</td>\n",
       "      <td>5.401822e+05</td>\n",
       "      <td>3.370842</td>\n",
       "      <td>2.114757</td>\n",
       "      <td>2079.899736</td>\n",
       "      <td>1.510697e+04</td>\n",
       "      <td>1.494309</td>\n",
       "      <td>0.007542</td>\n",
       "      <td>0.234303</td>\n",
       "      <td>3.409430</td>\n",
       "      <td>7.656873</td>\n",
       "      <td>1788.390691</td>\n",
       "      <td>291.509045</td>\n",
       "      <td>1971.005136</td>\n",
       "      <td>84.402258</td>\n",
       "      <td>98077.939805</td>\n",
       "      <td>1986.552492</td>\n",
       "      <td>12768.455652</td>\n",
       "    </tr>\n",
       "    <tr>\n",
       "      <th>std</th>\n",
       "      <td>2.876566e+09</td>\n",
       "      <td>3.673622e+05</td>\n",
       "      <td>0.930062</td>\n",
       "      <td>0.770163</td>\n",
       "      <td>918.440897</td>\n",
       "      <td>4.142051e+04</td>\n",
       "      <td>0.539989</td>\n",
       "      <td>0.086517</td>\n",
       "      <td>0.766318</td>\n",
       "      <td>0.650743</td>\n",
       "      <td>1.175459</td>\n",
       "      <td>828.090978</td>\n",
       "      <td>442.575043</td>\n",
       "      <td>29.373411</td>\n",
       "      <td>401.679240</td>\n",
       "      <td>53.505026</td>\n",
       "      <td>685.391304</td>\n",
       "      <td>27304.179631</td>\n",
       "    </tr>\n",
       "    <tr>\n",
       "      <th>min</th>\n",
       "      <td>1.000102e+06</td>\n",
       "      <td>7.500000e+04</td>\n",
       "      <td>0.000000</td>\n",
       "      <td>0.000000</td>\n",
       "      <td>290.000000</td>\n",
       "      <td>5.200000e+02</td>\n",
       "      <td>1.000000</td>\n",
       "      <td>0.000000</td>\n",
       "      <td>0.000000</td>\n",
       "      <td>1.000000</td>\n",
       "      <td>1.000000</td>\n",
       "      <td>290.000000</td>\n",
       "      <td>0.000000</td>\n",
       "      <td>1900.000000</td>\n",
       "      <td>0.000000</td>\n",
       "      <td>98001.000000</td>\n",
       "      <td>399.000000</td>\n",
       "      <td>651.000000</td>\n",
       "    </tr>\n",
       "    <tr>\n",
       "      <th>25%</th>\n",
       "      <td>2.123049e+09</td>\n",
       "      <td>3.219500e+05</td>\n",
       "      <td>3.000000</td>\n",
       "      <td>1.750000</td>\n",
       "      <td>1427.000000</td>\n",
       "      <td>5.040000e+03</td>\n",
       "      <td>1.000000</td>\n",
       "      <td>0.000000</td>\n",
       "      <td>0.000000</td>\n",
       "      <td>3.000000</td>\n",
       "      <td>7.000000</td>\n",
       "      <td>1190.000000</td>\n",
       "      <td>0.000000</td>\n",
       "      <td>1951.000000</td>\n",
       "      <td>0.000000</td>\n",
       "      <td>98033.000000</td>\n",
       "      <td>1490.000000</td>\n",
       "      <td>5100.000000</td>\n",
       "    </tr>\n",
       "    <tr>\n",
       "      <th>50%</th>\n",
       "      <td>3.904930e+09</td>\n",
       "      <td>4.500000e+05</td>\n",
       "      <td>3.000000</td>\n",
       "      <td>2.250000</td>\n",
       "      <td>1910.000000</td>\n",
       "      <td>7.618000e+03</td>\n",
       "      <td>1.500000</td>\n",
       "      <td>0.000000</td>\n",
       "      <td>0.000000</td>\n",
       "      <td>3.000000</td>\n",
       "      <td>7.000000</td>\n",
       "      <td>1560.000000</td>\n",
       "      <td>0.000000</td>\n",
       "      <td>1975.000000</td>\n",
       "      <td>0.000000</td>\n",
       "      <td>98065.000000</td>\n",
       "      <td>1840.000000</td>\n",
       "      <td>7620.000000</td>\n",
       "    </tr>\n",
       "    <tr>\n",
       "      <th>75%</th>\n",
       "      <td>7.308900e+09</td>\n",
       "      <td>6.450000e+05</td>\n",
       "      <td>4.000000</td>\n",
       "      <td>2.500000</td>\n",
       "      <td>2550.000000</td>\n",
       "      <td>1.068800e+04</td>\n",
       "      <td>2.000000</td>\n",
       "      <td>0.000000</td>\n",
       "      <td>0.000000</td>\n",
       "      <td>4.000000</td>\n",
       "      <td>8.000000</td>\n",
       "      <td>2210.000000</td>\n",
       "      <td>560.000000</td>\n",
       "      <td>1997.000000</td>\n",
       "      <td>0.000000</td>\n",
       "      <td>98118.000000</td>\n",
       "      <td>2360.000000</td>\n",
       "      <td>10083.000000</td>\n",
       "    </tr>\n",
       "    <tr>\n",
       "      <th>max</th>\n",
       "      <td>9.900000e+09</td>\n",
       "      <td>7.700000e+06</td>\n",
       "      <td>33.000000</td>\n",
       "      <td>8.000000</td>\n",
       "      <td>13540.000000</td>\n",
       "      <td>1.651359e+06</td>\n",
       "      <td>3.500000</td>\n",
       "      <td>1.000000</td>\n",
       "      <td>4.000000</td>\n",
       "      <td>5.000000</td>\n",
       "      <td>13.000000</td>\n",
       "      <td>9410.000000</td>\n",
       "      <td>4820.000000</td>\n",
       "      <td>2015.000000</td>\n",
       "      <td>2015.000000</td>\n",
       "      <td>98199.000000</td>\n",
       "      <td>6210.000000</td>\n",
       "      <td>871200.000000</td>\n",
       "    </tr>\n",
       "  </tbody>\n",
       "</table>\n",
       "</div>"
      ],
      "text/plain": [
       "                 id         price      bedrooms     bathrooms   sqft_living  \\\n",
       "count  2.161300e+04  2.161300e+04  21613.000000  21613.000000  21613.000000   \n",
       "mean   4.580302e+09  5.401822e+05      3.370842      2.114757   2079.899736   \n",
       "std    2.876566e+09  3.673622e+05      0.930062      0.770163    918.440897   \n",
       "min    1.000102e+06  7.500000e+04      0.000000      0.000000    290.000000   \n",
       "25%    2.123049e+09  3.219500e+05      3.000000      1.750000   1427.000000   \n",
       "50%    3.904930e+09  4.500000e+05      3.000000      2.250000   1910.000000   \n",
       "75%    7.308900e+09  6.450000e+05      4.000000      2.500000   2550.000000   \n",
       "max    9.900000e+09  7.700000e+06     33.000000      8.000000  13540.000000   \n",
       "\n",
       "           sqft_lot        floors    waterfront          view     condition  \\\n",
       "count  2.161300e+04  21613.000000  21613.000000  21613.000000  21613.000000   \n",
       "mean   1.510697e+04      1.494309      0.007542      0.234303      3.409430   \n",
       "std    4.142051e+04      0.539989      0.086517      0.766318      0.650743   \n",
       "min    5.200000e+02      1.000000      0.000000      0.000000      1.000000   \n",
       "25%    5.040000e+03      1.000000      0.000000      0.000000      3.000000   \n",
       "50%    7.618000e+03      1.500000      0.000000      0.000000      3.000000   \n",
       "75%    1.068800e+04      2.000000      0.000000      0.000000      4.000000   \n",
       "max    1.651359e+06      3.500000      1.000000      4.000000      5.000000   \n",
       "\n",
       "              grade    sqft_above  sqft_basement      yr_built  yr_renovated  \\\n",
       "count  21613.000000  21613.000000   21613.000000  21613.000000  21613.000000   \n",
       "mean       7.656873   1788.390691     291.509045   1971.005136     84.402258   \n",
       "std        1.175459    828.090978     442.575043     29.373411    401.679240   \n",
       "min        1.000000    290.000000       0.000000   1900.000000      0.000000   \n",
       "25%        7.000000   1190.000000       0.000000   1951.000000      0.000000   \n",
       "50%        7.000000   1560.000000       0.000000   1975.000000      0.000000   \n",
       "75%        8.000000   2210.000000     560.000000   1997.000000      0.000000   \n",
       "max       13.000000   9410.000000    4820.000000   2015.000000   2015.000000   \n",
       "\n",
       "            zipcode  sqft_living15     sqft_lot15  \n",
       "count  21613.000000   21613.000000   21613.000000  \n",
       "mean   98077.939805    1986.552492   12768.455652  \n",
       "std       53.505026     685.391304   27304.179631  \n",
       "min    98001.000000     399.000000     651.000000  \n",
       "25%    98033.000000    1490.000000    5100.000000  \n",
       "50%    98065.000000    1840.000000    7620.000000  \n",
       "75%    98118.000000    2360.000000   10083.000000  \n",
       "max    98199.000000    6210.000000  871200.000000  "
      ]
     },
     "execution_count": 3,
     "metadata": {},
     "output_type": "execute_result"
    }
   ],
   "source": [
    "#describe dataset to see the percentiles and statistics\n",
    "df.describe()"
   ]
  },
  {
   "cell_type": "markdown",
   "id": "eb1fbf8a",
   "metadata": {},
   "source": [
    "Inferences:"
   ]
  },
  {
   "cell_type": "markdown",
   "id": "f4b95587",
   "metadata": {},
   "source": [
    "1. Maximum number of bedrooms is seen to be 33, which is very higher than the average. This may be an outlier or some exceptional case.\n",
    "2. Many of the data are distributed as there minimum and maximum value have large variations with the average."
   ]
  },
  {
   "cell_type": "code",
   "execution_count": 4,
   "id": "d09ba0b9",
   "metadata": {},
   "outputs": [
    {
     "data": {
      "image/png": "[encoded data removed]",
      "text/plain": [
       "<Figure size 720x432 with 1 Axes>"
      ]
     },
     "metadata": {},
     "output_type": "display_data"
    }
   ],
   "source": [
    "#Analysis of distribution of variables\n",
    "plt.style.use(style='ggplot')\n",
    "plt.rcParams['figure.figsize'] = (10, 6)\n",
    "plt.hist(df['price'], color='blue')\n",
    "plt.xlabel('House Price')\n",
    "plt.ylabel('Count')\n",
    "plt.ticklabel_format(style='plain')\n",
    "plt.show()"
   ]
  },
  {
   "cell_type": "markdown",
   "id": "2ceaf714",
   "metadata": {},
   "source": [
    "Most of the houses cost below 1 million."
   ]
  },
  {
   "cell_type": "code",
   "execution_count": 5,
   "id": "cdf552cf",
   "metadata": {},
   "outputs": [
    {
     "data": {
      "image/png": "[encoded data removed]",
      "text/plain": [
       "<Figure size 720x432 with 1 Axes>"
      ]
     },
     "metadata": {},
     "output_type": "display_data"
    }
   ],
   "source": [
    "#Living area(sq.ft) vs House price\n",
    "plt.scatter(df.sqft_living, df.price, color = 'b')\n",
    "plt.title(\"Price vs Living Area\")\n",
    "plt.xlabel('Living Area(sq.ft)')\n",
    "plt.ylabel('House Price')\n",
    "plt.ticklabel_format(style='plain')\n",
    "plt.show()"
   ]
  },
  {
   "cell_type": "markdown",
   "id": "55385c04",
   "metadata": {},
   "source": [
    "In general, larger living area means higher house price. But it is also visible that very few houses with large living area has been sold for low price."
   ]
  },
  {
   "cell_type": "code",
   "execution_count": 6,
   "id": "32c0ff57",
   "metadata": {},
   "outputs": [
    {
     "data": {
      "image/png": "[encoded data removed]",
      "text/plain": [
       "<Figure size 720x432 with 1 Axes>"
      ]
     },
     "metadata": {},
     "output_type": "display_data"
    }
   ],
   "source": [
    "#Comparison of house price with number of bedrooms.\n",
    "plt.scatter(df.bedrooms,df.price, color = 'b')\n",
    "plt.title(\"Number of Bedroom vs Price \")\n",
    "plt.xlabel(\"Number of Bedrooms\")\n",
    "plt.ylabel(\"House Price\")\n",
    "plt.ticklabel_format(style='plain')\n",
    "plt.show()"
   ]
  },
  {
   "cell_type": "markdown",
   "id": "e3e22e86",
   "metadata": {},
   "source": [
    "In general, house price increases with increase in number of bedrooms. However, there are some exceptions observed where even if the number of bedrooms are higher the house price stays low. Many other factors may be influencing these occurance."
   ]
  },
  {
   "cell_type": "code",
   "execution_count": 7,
   "id": "14ed6259",
   "metadata": {},
   "outputs": [
    {
     "data": {
      "image/png": "[encoded data removed]",
      "text/plain": [
       "<Figure size 720x432 with 1 Axes>"
      ]
     },
     "metadata": {},
     "output_type": "display_data"
    }
   ],
   "source": [
    "#price comparison between waterfront and non waterfront houses.\n",
    "plt.title(\"Average House Price based on waterfront\")\n",
    "plt.ylabel(\"Avg. House Price\")\n",
    "plt.ticklabel_format(style='plain')\n",
    "df.groupby('waterfront')[\"price\"].mean().plot(kind='bar', color = 'b')\n",
    "plt.show()\n"
   ]
  },
  {
   "cell_type": "markdown",
   "id": "4b751fc1",
   "metadata": {},
   "source": [
    "Houses overlooking the waterfront seems to have higher prices than the others."
   ]
  },
  {
   "cell_type": "code",
   "execution_count": 8,
   "id": "36f450ba",
   "metadata": {},
   "outputs": [
    {
     "data": {
      "image/png": "[encoded data removed]",
      "text/plain": [
       "<Figure size 720x432 with 1 Axes>"
      ]
     },
     "metadata": {},
     "output_type": "display_data"
    }
   ],
   "source": [
    "#House price comparison based on condition of houses.\n",
    "plt.title(\"Avg House price based on house condition\")\n",
    "plt.ylabel(\"Avg. House Price\")\n",
    "plt.ticklabel_format(style='plain')\n",
    "df.groupby('condition')[\"price\"].mean().plot(kind='bar', color = 'b')\n",
    "plt.show()"
   ]
  },
  {
   "cell_type": "markdown",
   "id": "e09ab040",
   "metadata": {},
   "source": [
    "As the condition of the house gets better, the price also increases."
   ]
  },
  {
   "cell_type": "markdown",
   "id": "43b786dc",
   "metadata": {},
   "source": [
    "**Data Preperation**"
   ]
  },
  {
   "cell_type": "markdown",
   "id": "a9329acd",
   "metadata": {},
   "source": [
    "Data Cleaning"
   ]
  },
  {
   "cell_type": "code",
   "execution_count": 9,
   "id": "cb1cd5ed",
   "metadata": {},
   "outputs": [
    {
     "name": "stdout",
     "output_type": "stream",
     "text": [
      "<class 'pandas.core.frame.DataFrame'>\n",
      "RangeIndex: 21613 entries, 0 to 21612\n",
      "Data columns (total 19 columns):\n",
      " #   Column         Non-Null Count  Dtype  \n",
      "---  ------         --------------  -----  \n",
      " 0   id             21613 non-null  int64  \n",
      " 1   date           21613 non-null  object \n",
      " 2   price          21613 non-null  float64\n",
      " 3   bedrooms       21613 non-null  int64  \n",
      " 4   bathrooms      21613 non-null  float64\n",
      " 5   sqft_living    21613 non-null  int64  \n",
      " 6   sqft_lot       21613 non-null  int64  \n",
      " 7   floors         21613 non-null  float64\n",
      " 8   waterfront     21613 non-null  int64  \n",
      " 9   view           21613 non-null  int64  \n",
      " 10  condition      21613 non-null  int64  \n",
      " 11  grade          21613 non-null  int64  \n",
      " 12  sqft_above     21613 non-null  int64  \n",
      " 13  sqft_basement  21613 non-null  int64  \n",
      " 14  yr_built       21613 non-null  int64  \n",
      " 15  yr_renovated   21613 non-null  int64  \n",
      " 16  zipcode        21613 non-null  int64  \n",
      " 17  sqft_living15  21613 non-null  int64  \n",
      " 18  sqft_lot15     21613 non-null  int64  \n",
      "dtypes: float64(3), int64(15), object(1)\n",
      "memory usage: 3.1+ MB\n"
     ]
    }
   ],
   "source": [
    "df.info()"
   ]
  },
  {
   "cell_type": "markdown",
   "id": "6813eb1d",
   "metadata": {},
   "source": [
    "Dataset contains no null values"
   ]
  },
  {
   "cell_type": "markdown",
   "id": "111caf04",
   "metadata": {},
   "source": [
    "The date feature is cannot be used for prediction of house price, It doesn't add much value to the prediction.\n",
    "So we are dropping 'date' colomn"
   ]
  },
  {
   "cell_type": "code",
   "execution_count": 10,
   "id": "29afd5d8",
   "metadata": {},
   "outputs": [],
   "source": [
    "df.drop(['date'], inplace=True, axis=1)"
   ]
  },
  {
   "cell_type": "markdown",
   "id": "02348206",
   "metadata": {},
   "source": [
    "Since 'id' is unique for houses we cannot use that feature for prediction. Therefore dropping 'id' colomn"
   ]
  },
  {
   "cell_type": "code",
   "execution_count": 11,
   "id": "0865c6f9",
   "metadata": {},
   "outputs": [],
   "source": [
    "df.drop(['id'], inplace=True, axis=1)"
   ]
  },
  {
   "cell_type": "markdown",
   "id": "6bc57185",
   "metadata": {},
   "source": [
    "The 'zipcode' feature is unique for each locality independent of house characteristics. Also we cannot it as an categorical value, since they are unique and area dependant. So we are dropping 'zipcode' column."
   ]
  },
  {
   "cell_type": "code",
   "execution_count": 12,
   "id": "9eb210a6",
   "metadata": {},
   "outputs": [],
   "source": [
    "df.drop(['zipcode'], inplace=True, axis=1)"
   ]
  },
  {
   "cell_type": "code",
   "execution_count": 13,
   "id": "5226bc9e",
   "metadata": {},
   "outputs": [],
   "source": [
    "#df.drop(['yr_built'], inplace=True, axis=1)"
   ]
  },
  {
   "cell_type": "code",
   "execution_count": 14,
   "id": "0b160cf1",
   "metadata": {},
   "outputs": [],
   "source": [
    "#df.drop(['yr_renovated'], inplace=True, axis=1)"
   ]
  },
  {
   "cell_type": "code",
   "execution_count": 15,
   "id": "c516ff19",
   "metadata": {},
   "outputs": [
    {
     "data": {
      "text/plain": [
       "<AxesSubplot:>"
      ]
     },
     "execution_count": 15,
     "metadata": {},
     "output_type": "execute_result"
    },
    {
     "data": {
      "image/png": "[encoded data removed]",
      "text/plain": [
       "<Figure size 1080x1080 with 2 Axes>"
      ]
     },
     "metadata": {},
     "output_type": "display_data"
    }
   ],
   "source": [
    "#Find Independent Column Correlations through Heatmap\n",
    "mask = np.triu(np.ones_like(df.corr(), dtype=bool)) #Creaing a mask to onlyshow the bottom triangle\n",
    "plt.subplots(figsize=(15,15))\n",
    "correlation_matrix = df.corr().round(2)\n",
    "sns.heatmap(data=correlation_matrix, annot=True, mask=mask)"
   ]
  },
  {
   "cell_type": "code",
   "execution_count": 16,
   "id": "5f33668f",
   "metadata": {},
   "outputs": [
    {
     "name": "stdout",
     "output_type": "stream",
     "text": [
      "Correlated columns @ 0.8: [('sqft_above', 'sqft_living')]\n"
     ]
    }
   ],
   "source": [
    "#Find Independent Column Correlations\n",
    "def correlation(dataset,threshold):\n",
    "    col_corr= [] # List of correlated columns\n",
    "    corr_matrix=dataset.corr() #finding correlation between columns\n",
    "    for i in range (len(corr_matrix.columns)): #Number of columns\n",
    "        for j in range (i):\n",
    "            if abs(corr_matrix.iloc[i,j])>threshold: #checking correlation between columns\n",
    "                colName=(corr_matrix.columns[i], corr_matrix.columns[j]) #getting correlated columns\n",
    "                col_corr.append(colName) #adding correlated column name\n",
    "    return col_corr #returning set of column names\n",
    "col=correlation(df,0.8)\n",
    "print('Correlated columns @ 0.8:', col)"
   ]
  },
  {
   "cell_type": "markdown",
   "id": "995f468f",
   "metadata": {},
   "source": [
    "Here, we can remove the columns that highly correlated to each other since they will perform similarly along the model. ('sqft_above', 'sqft_living') are have correlation above 0.8. So we can remove either of them."
   ]
  },
  {
   "cell_type": "code",
   "execution_count": 17,
   "id": "db2b96f1",
   "metadata": {},
   "outputs": [],
   "source": [
    "#Dropping colomn 'sqft_above' from the dataset\n",
    "df.drop(['sqft_above'], inplace=True, axis=1)"
   ]
  },
  {
   "cell_type": "code",
   "execution_count": 18,
   "id": "48e64f02",
   "metadata": {},
   "outputs": [
    {
     "data": {
      "text/html": [
       "<div>\n",
       "<style scoped>\n",
       "    .dataframe tbody tr th:only-of-type {\n",
       "        vertical-align: middle;\n",
       "    }\n",
       "\n",
       "    .dataframe tbody tr th {\n",
       "        vertical-align: top;\n",
       "    }\n",
       "\n",
       "    .dataframe thead th {\n",
       "        text-align: right;\n",
       "    }\n",
       "</style>\n",
       "<table border=\"1\" class=\"dataframe\">\n",
       "  <thead>\n",
       "    <tr style=\"text-align: right;\">\n",
       "      <th></th>\n",
       "      <th>price</th>\n",
       "      <th>bedrooms</th>\n",
       "      <th>bathrooms</th>\n",
       "      <th>sqft_living</th>\n",
       "      <th>sqft_lot</th>\n",
       "      <th>floors</th>\n",
       "      <th>waterfront</th>\n",
       "      <th>view</th>\n",
       "      <th>condition</th>\n",
       "      <th>grade</th>\n",
       "      <th>sqft_basement</th>\n",
       "      <th>yr_built</th>\n",
       "      <th>yr_renovated</th>\n",
       "      <th>sqft_living15</th>\n",
       "      <th>sqft_lot15</th>\n",
       "    </tr>\n",
       "  </thead>\n",
       "  <tbody>\n",
       "    <tr>\n",
       "      <th>0</th>\n",
       "      <td>221900.0</td>\n",
       "      <td>3</td>\n",
       "      <td>1.00</td>\n",
       "      <td>1180</td>\n",
       "      <td>5650</td>\n",
       "      <td>1.0</td>\n",
       "      <td>0</td>\n",
       "      <td>0</td>\n",
       "      <td>3</td>\n",
       "      <td>7</td>\n",
       "      <td>0</td>\n",
       "      <td>1955</td>\n",
       "      <td>0</td>\n",
       "      <td>1340</td>\n",
       "      <td>5650</td>\n",
       "    </tr>\n",
       "    <tr>\n",
       "      <th>1</th>\n",
       "      <td>538000.0</td>\n",
       "      <td>3</td>\n",
       "      <td>2.25</td>\n",
       "      <td>2570</td>\n",
       "      <td>7242</td>\n",
       "      <td>2.0</td>\n",
       "      <td>0</td>\n",
       "      <td>0</td>\n",
       "      <td>3</td>\n",
       "      <td>7</td>\n",
       "      <td>400</td>\n",
       "      <td>1951</td>\n",
       "      <td>1991</td>\n",
       "      <td>1690</td>\n",
       "      <td>7639</td>\n",
       "    </tr>\n",
       "    <tr>\n",
       "      <th>2</th>\n",
       "      <td>180000.0</td>\n",
       "      <td>2</td>\n",
       "      <td>1.00</td>\n",
       "      <td>770</td>\n",
       "      <td>10000</td>\n",
       "      <td>1.0</td>\n",
       "      <td>0</td>\n",
       "      <td>0</td>\n",
       "      <td>3</td>\n",
       "      <td>6</td>\n",
       "      <td>0</td>\n",
       "      <td>1933</td>\n",
       "      <td>0</td>\n",
       "      <td>2720</td>\n",
       "      <td>8062</td>\n",
       "    </tr>\n",
       "    <tr>\n",
       "      <th>3</th>\n",
       "      <td>604000.0</td>\n",
       "      <td>4</td>\n",
       "      <td>3.00</td>\n",
       "      <td>1960</td>\n",
       "      <td>5000</td>\n",
       "      <td>1.0</td>\n",
       "      <td>0</td>\n",
       "      <td>0</td>\n",
       "      <td>5</td>\n",
       "      <td>7</td>\n",
       "      <td>910</td>\n",
       "      <td>1965</td>\n",
       "      <td>0</td>\n",
       "      <td>1360</td>\n",
       "      <td>5000</td>\n",
       "    </tr>\n",
       "    <tr>\n",
       "      <th>4</th>\n",
       "      <td>510000.0</td>\n",
       "      <td>3</td>\n",
       "      <td>2.00</td>\n",
       "      <td>1680</td>\n",
       "      <td>8080</td>\n",
       "      <td>1.0</td>\n",
       "      <td>0</td>\n",
       "      <td>0</td>\n",
       "      <td>3</td>\n",
       "      <td>8</td>\n",
       "      <td>0</td>\n",
       "      <td>1987</td>\n",
       "      <td>0</td>\n",
       "      <td>1800</td>\n",
       "      <td>7503</td>\n",
       "    </tr>\n",
       "  </tbody>\n",
       "</table>\n",
       "</div>"
      ],
      "text/plain": [
       "      price  bedrooms  bathrooms  sqft_living  sqft_lot  floors  waterfront  \\\n",
       "0  221900.0         3       1.00         1180      5650     1.0           0   \n",
       "1  538000.0         3       2.25         2570      7242     2.0           0   \n",
       "2  180000.0         2       1.00          770     10000     1.0           0   \n",
       "3  604000.0         4       3.00         1960      5000     1.0           0   \n",
       "4  510000.0         3       2.00         1680      8080     1.0           0   \n",
       "\n",
       "   view  condition  grade  sqft_basement  yr_built  yr_renovated  \\\n",
       "0     0          3      7              0      1955             0   \n",
       "1     0          3      7            400      1951          1991   \n",
       "2     0          3      6              0      1933             0   \n",
       "3     0          5      7            910      1965             0   \n",
       "4     0          3      8              0      1987             0   \n",
       "\n",
       "   sqft_living15  sqft_lot15  \n",
       "0           1340        5650  \n",
       "1           1690        7639  \n",
       "2           2720        8062  \n",
       "3           1360        5000  \n",
       "4           1800        7503  "
      ]
     },
     "execution_count": 18,
     "metadata": {},
     "output_type": "execute_result"
    }
   ],
   "source": [
    "df.head()"
   ]
  },
  {
   "cell_type": "markdown",
   "id": "a14b6956",
   "metadata": {},
   "source": [
    "Outliers handling"
   ]
  },
  {
   "cell_type": "code",
   "execution_count": 19,
   "id": "db896a98",
   "metadata": {},
   "outputs": [
    {
     "data": {
      "text/plain": [
       "<AxesSubplot:>"
      ]
     },
     "execution_count": 19,
     "metadata": {},
     "output_type": "execute_result"
    },
    {
     "data": {
      "image/png": "[encoded data removed]",
      "text/plain": [
       "<Figure size 720x432 with 1 Axes>"
      ]
     },
     "metadata": {},
     "output_type": "display_data"
    }
   ],
   "source": [
    "plt.ticklabel_format(style='plain')\n",
    "df.boxplot(column=['bedrooms'])"
   ]
  },
  {
   "cell_type": "code",
   "execution_count": 20,
   "id": "db8915ef",
   "metadata": {},
   "outputs": [],
   "source": [
    "outlier = np.where(df['bedrooms']>12)\n",
    "df.drop(outlier[0], inplace=True)"
   ]
  },
  {
   "cell_type": "markdown",
   "id": "c44b252c",
   "metadata": {},
   "source": [
    "Feature Selection"
   ]
  },
  {
   "cell_type": "code",
   "execution_count": 21,
   "id": "f206f4fe",
   "metadata": {},
   "outputs": [],
   "source": [
    "#Feature selection, defining X and Y variable\n",
    "x = df.drop(['price'],axis=1).to_numpy()\n",
    "y = df['price'].to_numpy()"
   ]
  },
  {
   "cell_type": "markdown",
   "id": "e0b02f25",
   "metadata": {},
   "source": [
    "Creatign Train and Test Dataset"
   ]
  },
  {
   "cell_type": "code",
   "execution_count": 22,
   "id": "20d60a6c",
   "metadata": {},
   "outputs": [],
   "source": [
    "#Creating Train, Validationn and Test Datasets\n",
    "from sklearn.model_selection import train_test_split \n",
    "x_train, x_rem, y_train, y_rem = train_test_split(x, y,test_size = 0.2, random_state = 100) #splitting into train and test\n",
    "\n",
    "#splitting test into validation and test\n",
    "x_valid, x_test, y_valid, y_test = train_test_split(x_rem,y_rem, test_size=0.5,  random_state = 100)"
   ]
  },
  {
   "cell_type": "markdown",
   "id": "6c3cf5f9",
   "metadata": {},
   "source": [
    "Scaling the Data  (not sure if needed or not)"
   ]
  },
  {
   "cell_type": "code",
   "execution_count": 23,
   "id": "dcd19935",
   "metadata": {},
   "outputs": [],
   "source": [
    "from sklearn.preprocessing import StandardScaler\n",
    "sc = StandardScaler()\n",
    "x_train2 = sc.fit_transform(x_train)\n",
    "x_test2 = sc.transform(x_test)"
   ]
  },
  {
   "cell_type": "markdown",
   "id": "049251b3",
   "metadata": {},
   "source": [
    "**Model Building**"
   ]
  },
  {
   "cell_type": "markdown",
   "id": "7f2c0124",
   "metadata": {},
   "source": [
    "1. Linear regression"
   ]
  },
  {
   "cell_type": "code",
   "execution_count": 24,
   "id": "0bf67852",
   "metadata": {},
   "outputs": [
    {
     "name": "stdout",
     "output_type": "stream",
     "text": [
      "\n",
      "R2: 0.64\n",
      "Adj_R2: 0.64\n",
      "Mean Absolute Error: 137403.84\n",
      "Mean Squared Error: 42859885767.34\n",
      "Root Mean Squared Error: 207026.29\n"
     ]
    }
   ],
   "source": [
    "#Model\n",
    "from sklearn.linear_model import LinearRegression\n",
    "lnr = LinearRegression()\n",
    "lnr.fit(x_train2,y_train)\n",
    "prediction_lnr = lnr.predict(x_test2)\n",
    "\n",
    "#Evaluation matrices - Adj R2,MAE,and RMSE\n",
    "print('\\nR2: {:.2f}'.format(metrics.r2_score(y_test,prediction_lnr)))\n",
    "adjusted_r_squared = 1-(1-metrics.r2_score(y_test,prediction_lnr))*(len(y)-1)/(len(y)-x.shape[1]-1)\n",
    "print('Adj_R2: {:0.2f}'.format(adjusted_r_squared))\n",
    "print('Mean Absolute Error: {:.2f}'.format(metrics.mean_absolute_error(y_test, prediction_lnr)))  \n",
    "print('Mean Squared Error: {:.2f}'.format(metrics.mean_squared_error(y_test, prediction_lnr)))  \n",
    "print('Root Mean Squared Error: {:.2f}'.format(np.sqrt(metrics.mean_squared_error(y_test, prediction_lnr)))) "
   ]
  },
  {
   "cell_type": "markdown",
   "id": "5d95436a",
   "metadata": {},
   "source": [
    "2. KNN Regression"
   ]
  },
  {
   "cell_type": "code",
   "execution_count": 25,
   "id": "d56b8016",
   "metadata": {},
   "outputs": [
    {
     "name": "stdout",
     "output_type": "stream",
     "text": [
      "Best k value is 8\n",
      "\n",
      "R2: 0.68\n",
      "Adj_R2: 0.68\n",
      "Mean Absolute Error: 125396.45\n",
      "Mean Squared Error: 37735054670.70\n",
      "Root Mean Squared Error: 194255.13\n"
     ]
    }
   ],
   "source": [
    "#Model\n",
    "from sklearn.neighbors import KNeighborsRegressor\n",
    "\n",
    "#Search for an optimal value of K for KNN\n",
    "from sklearn.model_selection import cross_val_score\n",
    "\n",
    "k_range = range(5, 10)\n",
    "k_scores = []\n",
    "\n",
    "for k in k_range:\n",
    "    knn_k = KNeighborsRegressor(n_neighbors=k)\n",
    "    scores = cross_val_score(knn_k, x_train2, y_train, cv=10, scoring='neg_root_mean_squared_error')\n",
    "    k_scores.append(scores.mean())\n",
    "    \n",
    "#Best Score\n",
    "BestScore = [1 - x for x in k_scores]\n",
    "best_k = k_range[BestScore.index(min(BestScore))]\n",
    "print('Best k value is', best_k)\n",
    "\n",
    "#Creating KNN model\n",
    "knn = KNeighborsRegressor(n_neighbors = best_k)\n",
    "knn.fit(x_train2, y_train)\n",
    "prediction_knn = knn.predict(x_test2)\n",
    "\n",
    "#Evaluation matrices - Adj R2,MAE,and RMSE\n",
    "print('\\nR2: {:.2f}'.format(metrics.r2_score(y_test,prediction_knn)))\n",
    "adjusted_r_squared = 1-(1-metrics.r2_score(y_test,prediction_knn))*(len(y)-1)/(len(y)-x.shape[1]-1)\n",
    "print('Adj_R2: {:0.2f}'.format(adjusted_r_squared))\n",
    "print('Mean Absolute Error: {:.2f}'.format(metrics.mean_absolute_error(y_test, prediction_knn)))  \n",
    "print('Mean Squared Error: {:.2f}'.format(metrics.mean_squared_error(y_test, prediction_knn)))  \n",
    "print('Root Mean Squared Error: {:.2f}'.format(np.sqrt(metrics.mean_squared_error(y_test, prediction_knn))))"
   ]
  },
  {
   "cell_type": "markdown",
   "id": "7333ecac",
   "metadata": {},
   "source": [
    "3. Gradient Boostig Regression"
   ]
  },
  {
   "cell_type": "code",
   "execution_count": 26,
   "id": "164fa44a",
   "metadata": {},
   "outputs": [
    {
     "name": "stdout",
     "output_type": "stream",
     "text": [
      "\n",
      "R2: 0.74\n",
      "Adj_R2: 0.74\n",
      "Mean Absolute Error: 118866.62\n",
      "Mean Squared Error: 30952259312.21\n",
      "Root Mean Squared Error: 175932.54\n"
     ]
    }
   ],
   "source": [
    "#Model\n",
    "from sklearn import ensemble\n",
    "gb = ensemble.GradientBoostingRegressor()\n",
    "gb.fit(x_train2, y_train)\n",
    "prediction_gb = gb.predict(x_test2)\n",
    "\n",
    "#Evaluation matrices - Adj R2,MAE,and RMSE\n",
    "print('\\nR2: {:.2f}'.format(metrics.r2_score(y_test,prediction_gb)))\n",
    "adjusted_r_squared = 1-(1-metrics.r2_score(y_test,prediction_gb))*(len(y)-1)/(len(y)-x.shape[1]-1)\n",
    "print('Adj_R2: {:0.2f}'.format(adjusted_r_squared))\n",
    "print('Mean Absolute Error: {:.2f}'.format(metrics.mean_absolute_error(y_test, prediction_gb)))  \n",
    "print('Mean Squared Error: {:.2f}'.format(metrics.mean_squared_error(y_test, prediction_gb)))  \n",
    "print('Root Mean Squared Error: {:.2f}'.format(np.sqrt(metrics.mean_squared_error(y_test, prediction_gb)))) "
   ]
  },
  {
   "cell_type": "markdown",
   "id": "e1ea3def",
   "metadata": {},
   "source": [
    "4. Random Forest Regression"
   ]
  },
  {
   "cell_type": "code",
   "execution_count": 27,
   "id": "a36889d1",
   "metadata": {},
   "outputs": [
    {
     "name": "stdout",
     "output_type": "stream",
     "text": [
      "\n",
      "R2: 0.73\n",
      "Adj_R2: 0.73\n",
      "Mean Absolute Error: 111990.64\n",
      "Mean Squared Error: 31173997945.70\n",
      "Root Mean Squared Error: 176561.60\n"
     ]
    }
   ],
   "source": [
    "#Model\n",
    "from sklearn.ensemble import RandomForestRegressor\n",
    "rf = RandomForestRegressor()\n",
    "rf.fit(x_train2,y_train)\n",
    "prediction_rf = rf.predict(x_test2)\n",
    "\n",
    "#Evaluation matrices - Adj R2,MAE,and RMSE\n",
    "print('\\nR2: {:.2f}'.format(metrics.r2_score(y_test,prediction_rf)))\n",
    "adjusted_r_squared = 1-(1-metrics.r2_score(y_test,prediction_rf))*(len(y)-1)/(len(y)-x.shape[1]-1)\n",
    "print('Adj_R2: {:0.2f}'.format(adjusted_r_squared))\n",
    "print('Mean Absolute Error: {:.2f}'.format(metrics.mean_absolute_error(y_test, prediction_rf)))  \n",
    "print('Mean Squared Error: {:.2f}'.format(metrics.mean_squared_error(y_test, prediction_rf)))  \n",
    "print('Root Mean Squared Error: {:.2f}'.format(np.sqrt(metrics.mean_squared_error(y_test, prediction_rf))))"
   ]
  },
  {
   "cell_type": "markdown",
   "id": "90b1196f",
   "metadata": {},
   "source": [
    "5. Decision Tree Regressor"
   ]
  },
  {
   "cell_type": "code",
   "execution_count": 28,
   "id": "ba38c248",
   "metadata": {},
   "outputs": [
    {
     "name": "stdout",
     "output_type": "stream",
     "text": [
      "\n",
      "R2: 0.47\n",
      "Adj_R2: 0.47\n",
      "Mean Absolute Error: 154500.84\n",
      "Mean Squared Error: 62441201367.32\n",
      "Root Mean Squared Error: 249882.38\n"
     ]
    }
   ],
   "source": [
    "#Model\n",
    "from sklearn.tree import DecisionTreeRegressor \n",
    "dtr = DecisionTreeRegressor()\n",
    "dtr.fit(x_train2,y_train)\n",
    "prediction_dtr = dtr.predict(x_test2)\n",
    "\n",
    "#Evaluation matrices - Adj R2,MAE,and RMSE\n",
    "print('\\nR2: {:.2f}'.format(metrics.r2_score(y_test,prediction_dtr)))\n",
    "adjusted_r_squared = 1-(1-metrics.r2_score(y_test,prediction_dtr))*(len(y)-1)/(len(y)-x.shape[1]-1)\n",
    "print('Adj_R2: {:0.2f}'.format(adjusted_r_squared))\n",
    "print('Mean Absolute Error: {:.2f}'.format(metrics.mean_absolute_error(y_test, prediction_dtr)))  \n",
    "print('Mean Squared Error: {:.2f}'.format(metrics.mean_squared_error(y_test, prediction_dtr)))  \n",
    "print('Root Mean Squared Error: {:.2f}'.format(np.sqrt(metrics.mean_squared_error(y_test, prediction_dtr))))"
   ]
  },
  {
   "cell_type": "markdown",
   "id": "8fa5b79a",
   "metadata": {},
   "source": [
    "**Model Comparison**"
   ]
  },
  {
   "cell_type": "code",
   "execution_count": 29,
   "id": "53f236d3",
   "metadata": {},
   "outputs": [],
   "source": [
    "models = []\n",
    "\n",
    "models.append(('Linear Regression',  lnr))\n",
    "models.append(('KNN', knn))\n",
    "models.append(('Gradient Boost',  gb))\n",
    "models.append(('Random Forest',  rf))\n",
    "models.append(('Decision Tree',  dtr))"
   ]
  },
  {
   "cell_type": "code",
   "execution_count": 30,
   "id": "49580bcd",
   "metadata": {},
   "outputs": [],
   "source": [
    "names = []\n",
    "scores = []\n",
    "\n",
    "for name, model in models:\n",
    "    y_pred = model.predict(x_test2)\n",
    "    scores.append('{:.2f}'.format(metrics.r2_score(y_test,y_pred)))\n",
    "    names.append(name)"
   ]
  },
  {
   "cell_type": "code",
   "execution_count": 31,
   "id": "db751181",
   "metadata": {},
   "outputs": [
    {
     "name": "stdout",
     "output_type": "stream",
     "text": [
      "                Name Score\n",
      "0  Linear Regression  0.64\n",
      "1                KNN  0.68\n",
      "2     Gradient Boost  0.74\n",
      "3      Random Forest  0.73\n",
      "4      Decision Tree  0.47\n"
     ]
    }
   ],
   "source": [
    "comparison = pd.DataFrame({'Name': names, 'Score' : scores})\n",
    "print(comparison)"
   ]
  },
  {
   "cell_type": "markdown",
   "id": "0ebc9e67",
   "metadata": {},
   "source": [
    "From the model comparison we can see that the Gradient Boost Regressor has got the highest accuracy/score compared to other 4 models that we have tried."
   ]
  },
  {
   "cell_type": "markdown",
   "id": "7ecdb72f",
   "metadata": {},
   "source": [
    "**Algorithm tuning for Gradient Boost Regressor**"
   ]
  },
  {
   "cell_type": "code",
   "execution_count": 32,
   "id": "a02d05b8",
   "metadata": {},
   "outputs": [
    {
     "name": "stderr",
     "output_type": "stream",
     "text": [
      "C:\\Users\\mikhi\\anaconda3\\lib\\site-packages\\sklearn\\ensemble\\_gb.py:286: FutureWarning: The loss 'ls' was deprecated in v1.0 and will be removed in version 1.2. Use 'squared_error' which is equivalent.\n",
      "  warnings.warn(\n"
     ]
    },
    {
     "name": "stdout",
     "output_type": "stream",
     "text": [
      "\n",
      "R2: 0.75\n"
     ]
    }
   ],
   "source": [
    "#Choosing the best hyperparameters for the model\n",
    "gb_tuned = ensemble.GradientBoostingRegressor(n_estimators = 400,\n",
    "          max_depth = 5,\n",
    "          min_samples_split = 2,\n",
    "          learning_rate = 0.1,\n",
    "          loss = 'ls')\n",
    "gb_tuned.fit(x_train2, y_train)\n",
    "prediction_gb_tuned = gb_tuned.predict(x_test2)\n",
    "\n",
    "print('\\nR2: {:.2f}'.format(metrics.r2_score(y_test,prediction_gb_tuned))) #Accuracy"
   ]
  },
  {
   "cell_type": "markdown",
   "id": "687985cd",
   "metadata": {},
   "source": [
    "Since there is no considerable change in the accuracy of the Gradient Boost algorithm, we are perfoming ensemble methods."
   ]
  },
  {
   "cell_type": "markdown",
   "id": "2254333d",
   "metadata": {},
   "source": [
    "**Ensemble - Bagging Method** - Base models are run on bags to get a fair distribution of the whole dataset"
   ]
  },
  {
   "cell_type": "code",
   "execution_count": 33,
   "id": "16a49544",
   "metadata": {},
   "outputs": [
    {
     "name": "stderr",
     "output_type": "stream",
     "text": [
      "C:\\Users\\mikhi\\anaconda3\\lib\\site-packages\\sklearn\\ensemble\\_gb.py:286: FutureWarning: The loss 'ls' was deprecated in v1.0 and will be removed in version 1.2. Use 'squared_error' which is equivalent.\n",
      "  warnings.warn(\n",
      "C:\\Users\\mikhi\\anaconda3\\lib\\site-packages\\sklearn\\ensemble\\_gb.py:286: FutureWarning: The loss 'ls' was deprecated in v1.0 and will be removed in version 1.2. Use 'squared_error' which is equivalent.\n",
      "  warnings.warn(\n",
      "C:\\Users\\mikhi\\anaconda3\\lib\\site-packages\\sklearn\\ensemble\\_gb.py:286: FutureWarning: The loss 'ls' was deprecated in v1.0 and will be removed in version 1.2. Use 'squared_error' which is equivalent.\n",
      "  warnings.warn(\n",
      "C:\\Users\\mikhi\\anaconda3\\lib\\site-packages\\sklearn\\ensemble\\_gb.py:286: FutureWarning: The loss 'ls' was deprecated in v1.0 and will be removed in version 1.2. Use 'squared_error' which is equivalent.\n",
      "  warnings.warn(\n",
      "C:\\Users\\mikhi\\anaconda3\\lib\\site-packages\\sklearn\\ensemble\\_gb.py:286: FutureWarning: The loss 'ls' was deprecated in v1.0 and will be removed in version 1.2. Use 'squared_error' which is equivalent.\n",
      "  warnings.warn(\n",
      "C:\\Users\\mikhi\\anaconda3\\lib\\site-packages\\sklearn\\ensemble\\_gb.py:286: FutureWarning: The loss 'ls' was deprecated in v1.0 and will be removed in version 1.2. Use 'squared_error' which is equivalent.\n",
      "  warnings.warn(\n",
      "C:\\Users\\mikhi\\anaconda3\\lib\\site-packages\\sklearn\\ensemble\\_gb.py:286: FutureWarning: The loss 'ls' was deprecated in v1.0 and will be removed in version 1.2. Use 'squared_error' which is equivalent.\n",
      "  warnings.warn(\n",
      "C:\\Users\\mikhi\\anaconda3\\lib\\site-packages\\sklearn\\ensemble\\_gb.py:286: FutureWarning: The loss 'ls' was deprecated in v1.0 and will be removed in version 1.2. Use 'squared_error' which is equivalent.\n",
      "  warnings.warn(\n",
      "C:\\Users\\mikhi\\anaconda3\\lib\\site-packages\\sklearn\\ensemble\\_gb.py:286: FutureWarning: The loss 'ls' was deprecated in v1.0 and will be removed in version 1.2. Use 'squared_error' which is equivalent.\n",
      "  warnings.warn(\n",
      "C:\\Users\\mikhi\\anaconda3\\lib\\site-packages\\sklearn\\ensemble\\_gb.py:286: FutureWarning: The loss 'ls' was deprecated in v1.0 and will be removed in version 1.2. Use 'squared_error' which is equivalent.\n",
      "  warnings.warn(\n"
     ]
    },
    {
     "name": "stdout",
     "output_type": "stream",
     "text": [
      "\n",
      "R2: 0.76\n"
     ]
    }
   ],
   "source": [
    "from sklearn.ensemble import BaggingRegressor\n",
    "\n",
    "final_model = BaggingRegressor(base_estimator=gb_tuned)\n",
    "final_model.fit(x_train2,y_train)\n",
    "prediction_fm = final_model.predict(x_test2)\n",
    "\n",
    "print('\\nR2: {:.2f}'.format(metrics.r2_score(y_test,prediction_fm))) #Accuracy"
   ]
  },
  {
   "cell_type": "markdown",
   "id": "1b955eaa",
   "metadata": {},
   "source": [
    "Ensemble method doesn't produced much increase in the accuracy of model. So we are taking the Gradient Descent as the finalized model."
   ]
  },
  {
   "cell_type": "markdown",
   "id": "cfd34fa2",
   "metadata": {},
   "source": [
    "*Predictions on Validation Set*"
   ]
  },
  {
   "cell_type": "code",
   "execution_count": 34,
   "id": "56b883b7",
   "metadata": {},
   "outputs": [
    {
     "name": "stdout",
     "output_type": "stream",
     "text": [
      "\n",
      "R2: 0.76\n"
     ]
    }
   ],
   "source": [
    "valid_pred = final_model.predict(x_valid)\n",
    "\n",
    "print('\\nR2: {:.2f}'.format(metrics.r2_score(y_test,prediction_fm)))  #Accuracy"
   ]
  },
  {
   "cell_type": "markdown",
   "id": "a4e2d988",
   "metadata": {},
   "source": [
    "*Saving Model*"
   ]
  },
  {
   "cell_type": "code",
   "execution_count": 35,
   "id": "b242ba97",
   "metadata": {},
   "outputs": [],
   "source": [
    "pickle.dump(final_model, open('houseprice.pkl','wb'))"
   ]
  },
  {
   "cell_type": "markdown",
   "id": "63acc7cc",
   "metadata": {},
   "source": [
    "For the house price prediction, we have done some data cleaning and tried using diffierent regression model and compared their accuracies. We have found that Gradient Boost Algorithm have got the highest accuracy among the models we have chosen and made it as the final model. Then performed predcition on accuracy, that also gives similar accuracy score. Finally saved our prediction model as 'houseprice' in .pkl format"
   ]
  }
 ],
 "metadata": {
  "kernelspec": {
   "display_name": "Python 3 (ipykernel)",
   "language": "python",
   "name": "python3"
  },
  "language_info": {
   "codemirror_mode": {
    "name": "ipython",
    "version": 3
   },
   "file_extension": ".py",
   "mimetype": "text/x-python",
   "name": "python",
   "nbconvert_exporter": "python",
   "pygments_lexer": "ipython3",
   "version": "3.9.13"
  }
 },
 "nbformat": 4,
 "nbformat_minor": 5
}
